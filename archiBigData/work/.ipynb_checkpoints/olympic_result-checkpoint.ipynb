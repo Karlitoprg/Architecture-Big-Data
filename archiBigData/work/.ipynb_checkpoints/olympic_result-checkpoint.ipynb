{
 "cells": [
  {
   "cell_type": "code",
   "execution_count": 58,
   "id": "7bdb44c2-7cb5-4f9e-8a27-afa3dfd4f086",
   "metadata": {},
   "outputs": [],
   "source": [
    "from pyspark.sql import SparkSession\n",
    "from pyspark.sql.functions import split, regexp_replace, upper, initcap"
   ]
  },
  {
   "cell_type": "code",
   "execution_count": 59,
   "id": "3fcace2d-ffb0-4eb2-bb65-831a492eeaf8",
   "metadata": {},
   "outputs": [],
   "source": [
    "# Créer une session Spark\n",
    "spark = SparkSession.builder.getOrCreate()"
   ]
  },
  {
   "cell_type": "code",
   "execution_count": 60,
   "id": "e4575465-d90c-4eca-b6ba-83d1d5c8753b",
   "metadata": {},
   "outputs": [],
   "source": [
    "# Charger les données depuis le fichier CSV\n",
    "results_df = spark.read.csv(\"hdfs://namenode:9000/olympic_game/staging/olympic_results.csv\", header=True, inferSchema=True)"
   ]
  },
  {
   "cell_type": "code",
   "execution_count": 61,
   "id": "61663c65-f4b0-4d00-8b07-3964cbe3207e",
   "metadata": {},
   "outputs": [
    {
     "name": "stdout",
     "output_type": "stream",
     "text": [
      "Schema before cleaning:\n",
      "root\n",
      " |-- discipline_title: string (nullable = true)\n",
      " |-- event_title: string (nullable = true)\n",
      " |-- slug_game: string (nullable = true)\n",
      " |-- participant_type: string (nullable = true)\n",
      " |-- medal_type: string (nullable = true)\n",
      " |-- athletes: string (nullable = true)\n",
      " |-- rank_equal: string (nullable = true)\n",
      " |-- rank_position: string (nullable = true)\n",
      " |-- country_name: string (nullable = true)\n",
      " |-- country_code: string (nullable = true)\n",
      " |-- country_3_letter_code: string (nullable = true)\n",
      " |-- athlete_url: string (nullable = true)\n",
      " |-- athlete_full_name: string (nullable = true)\n",
      " |-- value_unit: string (nullable = true)\n",
      " |-- value_type: string (nullable = true)\n",
      "\n"
     ]
    }
   ],
   "source": [
    "# Afficher le schéma et quelques lignes des données pour exploration initiale\n",
    "print(\"Schema before cleaning:\")\n",
    "results_df.printSchema()"
   ]
  },
  {
   "cell_type": "code",
   "execution_count": 62,
   "id": "097a6bfa-04ea-41e9-acee-0c474cc6bb29",
   "metadata": {},
   "outputs": [
    {
     "name": "stdout",
     "output_type": "stream",
     "text": [
      "+----------------+-------------+------------+----------------+----------+----------------------------------------------------------------------------------------------------------------------------------------------------------+----------+-------------+-------------+------------+---------------------+-----------+-----------------+----------+----------+\n",
      "|discipline_title|event_title  |slug_game   |participant_type|medal_type|athletes                                                                                                                                                  |rank_equal|rank_position|country_name |country_code|country_3_letter_code|athlete_url|athlete_full_name|value_unit|value_type|\n",
      "+----------------+-------------+------------+----------------+----------+----------------------------------------------------------------------------------------------------------------------------------------------------------+----------+-------------+-------------+------------+---------------------+-----------+-----------------+----------+----------+\n",
      "|Curling         |Mixed Doubles|beijing-2022|GameTeam        |GOLD      |[('Stefania CONSTANTINI', 'https://olympics.com/en/athletes/stefania-constantini'), ('Amos MOSANER', 'https://olympics.com/en/athletes/amos-mosaner')]    |False     |1            |Italy        |IT          |ITA                  |NULL       |NULL             |NULL      |NULL      |\n",
      "|Curling         |Mixed Doubles|beijing-2022|GameTeam        |SILVER    |[('Kristin SKASLIEN', 'https://olympics.com/en/athletes/kristin-skaslien'), ('Magnus NEDREGOTTEN', 'https://olympics.com/en/athletes/magnus-nedregotten')]|False     |2            |Norway       |NO          |NOR                  |NULL       |NULL             |NULL      |NULL      |\n",
      "|Curling         |Mixed Doubles|beijing-2022|GameTeam        |BRONZE    |[('Almida DE VAL', 'https://olympics.com/en/athletes/almida-de-val'), ('Oskar ERIKSSON', 'https://olympics.com/en/athletes/oskar-eriksson')]              |False     |3            |Sweden       |SE          |SWE                  |NULL       |NULL             |NULL      |NULL      |\n",
      "|Curling         |Mixed Doubles|beijing-2022|GameTeam        |NULL      |[('Jennifer DODDS', 'https://olympics.com/en/athletes/jennifer-dodds'), ('Bruce MOUAT', 'https://olympics.com/en/athletes/bruce-mouat')]                  |False     |4            |Great Britain|GB          |GBR                  |NULL       |NULL             |NULL      |NULL      |\n",
      "|Curling         |Mixed Doubles|beijing-2022|GameTeam        |NULL      |[('Rachel HOMAN', 'https://olympics.com/en/athletes/rachel-homan'), ('John MORRIS', 'https://olympics.com/en/athletes/john-morris')]                      |False     |5            |Canada       |CA          |CAN                  |NULL       |NULL             |NULL      |NULL      |\n",
      "+----------------+-------------+------------+----------------+----------+----------------------------------------------------------------------------------------------------------------------------------------------------------+----------+-------------+-------------+------------+---------------------+-----------+-----------------+----------+----------+\n",
      "only showing top 5 rows\n",
      "\n"
     ]
    }
   ],
   "source": [
    "# First 5 rows before cleaning\n",
    "results_df.show(5, truncate=False)"
   ]
  },
  {
   "cell_type": "code",
   "execution_count": 63,
   "id": "93fd3c27-24dd-4ac9-af40-3b6df602de6f",
   "metadata": {},
   "outputs": [],
   "source": [
    "# Nettoyage des données\n",
    "# Supprimer les colonnes inutiles\n",
    "columns_to_drop = [\"value_unit\", \"value_type\", \"athlete_url\", \"country_3_letter_code\", \"country_code\"]\n",
    "results_cleaned_df = results_df.drop(*columns_to_drop)"
   ]
  },
  {
   "cell_type": "code",
   "execution_count": 64,
   "id": "411d7ed4-0608-4616-bbbf-640b3741db0b",
   "metadata": {},
   "outputs": [],
   "source": [
    "# Fractionner la colonne 'athletes' en deux colonnes distinctes en supprimant les URL\n",
    "results_cleaned_df = results_cleaned_df.withColumn(\"athlete_1\", split(split(col(\"athletes\"), \"https://olympics.com/en/athletes/\")[1], \"'\")[0]) \\\n",
    "                                       .withColumn(\"athlete_2\", split(split(col(\"athletes\"), \"https://olympics.com/en/athletes/\")[2], \"'\")[0])"
   ]
  },
  {
   "cell_type": "code",
   "execution_count": 65,
   "id": "a05abf15-ed03-4873-a179-30437268066e",
   "metadata": {},
   "outputs": [],
   "source": [
    "# Supprimer la colonne 'athletes' désormais inutile\n",
    "results_cleaned_df = results_cleaned_df.drop(\"athletes\")"
   ]
  },
  {
   "cell_type": "code",
   "execution_count": 66,
   "id": "91bb4329-84a0-4b4e-b2b6-d2946dd327f8",
   "metadata": {},
   "outputs": [
    {
     "name": "stdout",
     "output_type": "stream",
     "text": [
      "Cleaned data:\n",
      "+----------------+-------------+------------+----------------+----------+----------+-------------+-------------+-----------------+--------------------+------------------+\n",
      "|discipline_title|event_title  |slug_game   |participant_type|medal_type|rank_equal|rank_position|country_name |athlete_full_name|athlete_1           |athlete_2         |\n",
      "+----------------+-------------+------------+----------------+----------+----------+-------------+-------------+-----------------+--------------------+------------------+\n",
      "|Curling         |Mixed Doubles|beijing-2022|GameTeam        |GOLD      |False     |1            |Italy        |NULL             |stefania-constantini|amos-mosaner      |\n",
      "|Curling         |Mixed Doubles|beijing-2022|GameTeam        |SILVER    |False     |2            |Norway       |NULL             |kristin-skaslien    |magnus-nedregotten|\n",
      "|Curling         |Mixed Doubles|beijing-2022|GameTeam        |BRONZE    |False     |3            |Sweden       |NULL             |almida-de-val       |oskar-eriksson    |\n",
      "|Curling         |Mixed Doubles|beijing-2022|GameTeam        |NULL      |False     |4            |Great Britain|NULL             |jennifer-dodds      |bruce-mouat       |\n",
      "|Curling         |Mixed Doubles|beijing-2022|GameTeam        |NULL      |False     |5            |Canada       |NULL             |rachel-homan        |john-morris       |\n",
      "+----------------+-------------+------------+----------------+----------+----------+-------------+-------------+-----------------+--------------------+------------------+\n",
      "only showing top 5 rows\n",
      "\n"
     ]
    }
   ],
   "source": [
    "# Afficher les données nettoyées\n",
    "print(\"Cleaned data:\")\n",
    "results_cleaned_df.show(5, truncate=False)"
   ]
  },
  {
   "cell_type": "code",
   "execution_count": 67,
   "id": "16f45ad7-77e6-4c09-9090-fe4d911ffbfc",
   "metadata": {},
   "outputs": [],
   "source": [
    "# Mettre les noms des athlètes en majuscules et supprimer les tirets\n",
    "results_cleaned_df = results_cleaned_df.withColumn(\"athlete_1\", initcap(regexp_replace(\"athlete_1\", \"-\", \" \"))) \\\n",
    "                                       .withColumn(\"athlete_2\", upper(regexp_replace(\"athlete_2\", \"-\", \" \")))"
   ]
  },
  {
   "cell_type": "code",
   "execution_count": 47,
   "id": "4666cb65-b4c0-4145-8574-4797ee66f735",
   "metadata": {},
   "outputs": [
    {
     "name": "stdout",
     "output_type": "stream",
     "text": [
      "Cleaned data:\n",
      "+----------------+-------------+------------+----------------+----------+----------+-------------+-------------+-----------------+--------------------+------------------+\n",
      "|discipline_title|event_title  |slug_game   |participant_type|medal_type|rank_equal|rank_position|country_name |athlete_full_name|athlete_1           |athlete_2         |\n",
      "+----------------+-------------+------------+----------------+----------+----------+-------------+-------------+-----------------+--------------------+------------------+\n",
      "|Curling         |Mixed Doubles|beijing-2022|GameTeam        |GOLD      |False     |1            |Italy        |NULL             |STEFANIA CONSTANTINI|AMOS MOSANER      |\n",
      "|Curling         |Mixed Doubles|beijing-2022|GameTeam        |SILVER    |False     |2            |Norway       |NULL             |KRISTIN SKASLIEN    |MAGNUS NEDREGOTTEN|\n",
      "|Curling         |Mixed Doubles|beijing-2022|GameTeam        |BRONZE    |False     |3            |Sweden       |NULL             |ALMIDA DE VAL       |OSKAR ERIKSSON    |\n",
      "|Curling         |Mixed Doubles|beijing-2022|GameTeam        |NULL      |False     |4            |Great Britain|NULL             |JENNIFER DODDS      |BRUCE MOUAT       |\n",
      "|Curling         |Mixed Doubles|beijing-2022|GameTeam        |NULL      |False     |5            |Canada       |NULL             |RACHEL HOMAN        |JOHN MORRIS       |\n",
      "+----------------+-------------+------------+----------------+----------+----------+-------------+-------------+-----------------+--------------------+------------------+\n",
      "only showing top 5 rows\n",
      "\n"
     ]
    }
   ],
   "source": [
    "# Afficher les données nettoyées\n",
    "print(\"Cleaned data:\")\n",
    "results_cleaned_df.show(5, truncate=False)"
   ]
  },
  {
   "cell_type": "code",
   "execution_count": null,
   "id": "824df639-e62b-42ff-b876-80b02a7e8ed7",
   "metadata": {},
   "outputs": [],
   "source": []
  }
 ],
 "metadata": {
  "kernelspec": {
   "display_name": "Python 3 (ipykernel)",
   "language": "python",
   "name": "python3"
  },
  "language_info": {
   "codemirror_mode": {
    "name": "ipython",
    "version": 3
   },
   "file_extension": ".py",
   "mimetype": "text/x-python",
   "name": "python",
   "nbconvert_exporter": "python",
   "pygments_lexer": "ipython3",
   "version": "3.11.6"
  }
 },
 "nbformat": 4,
 "nbformat_minor": 5
}
