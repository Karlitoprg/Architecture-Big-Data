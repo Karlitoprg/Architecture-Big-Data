{
 "cells": [
  {
   "cell_type": "code",
   "execution_count": 4,
   "id": "3680ddb2-ac0e-4de1-accd-ffcfce5e0109",
   "metadata": {},
   "outputs": [],
   "source": [
    "from pyspark.sql import SparkSession"
   ]
  },
  {
   "cell_type": "code",
   "execution_count": 5,
   "id": "c8e14fae-b1db-4ae3-850f-f4edc9a19c54",
   "metadata": {},
   "outputs": [],
   "source": [
    "spark = SparkSession.builder.getOrCreate()"
   ]
  },
  {
   "cell_type": "code",
   "execution_count": 82,
   "id": "0620e744-b7cc-48e4-b85c-79232e9c2f32",
   "metadata": {},
   "outputs": [],
   "source": [
    "datahouse = spark.read.csv(\"hdfs://namenode:9000/data/staging\", inferSchema=True,header=True)"
   ]
  },
  {
   "cell_type": "code",
   "execution_count": 83,
   "id": "335faf48-1745-427d-aad6-0bb1e77afd9c",
   "metadata": {},
   "outputs": [
    {
     "name": "stdout",
     "output_type": "stream",
     "text": [
      "Taille de la data: 189960\n"
     ]
    }
   ],
   "source": [
    "# Vérifier la taille de votre DataFrame\n",
    "data_size = datahouse.count()\n",
    "\n",
    "# Afficher la taille de votre DataFrame\n",
    "print(\"Taille de la data:\", data_size)\n"
   ]
  },
  {
   "cell_type": "code",
   "execution_count": 84,
   "id": "20bb11eb-70e9-4b9c-86d2-fd4bdf2757f2",
   "metadata": {},
   "outputs": [
    {
     "name": "stdout",
     "output_type": "stream",
     "text": [
      "+--------------------+--------------------+--------------------+----------------+------------------+--------------+----+\n",
      "|         athlete_url|   athlete_full_name|games_participations|      first_game|athlete_year_birth|athlete_medals| bio|\n",
      "+--------------------+--------------------+--------------------+----------------+------------------+--------------+----+\n",
      "|https://olympics....|Cooper WOODS-TOPA...|                   1|    Beijing 2022|              2000|          NULL|NULL|\n",
      "|https://olympics....|      Felix ELOFSSON|                   2|PyeongChang 2018|              1995|          NULL|NULL|\n",
      "|https://olympics....|       Dylan WALCZYK|                   1|    Beijing 2022|              1993|          NULL|NULL|\n",
      "|https://olympics....|       Olli PENTTALA|                   1|    Beijing 2022|              1995|          NULL|NULL|\n",
      "|https://olympics....|    Dmitriy REIKHERD|                   1|    Beijing 2022|              1989|          NULL|NULL|\n",
      "+--------------------+--------------------+--------------------+----------------+------------------+--------------+----+\n",
      "only showing top 5 rows\n",
      "\n"
     ]
    }
   ],
   "source": [
    "datahouse.show(5)"
   ]
  },
  {
   "cell_type": "code",
   "execution_count": 85,
   "id": "3fe1404e-8318-4518-9b71-914e499b49d3",
   "metadata": {},
   "outputs": [
    {
     "name": "stdout",
     "output_type": "stream",
     "text": [
      "+-----------+-----------------+--------------------+----------+------------------+--------------+------+\n",
      "|athlete_url|athlete_full_name|games_participations|first_game|athlete_year_birth|athlete_medals|   bio|\n",
      "+-----------+-----------------+--------------------+----------+------------------+--------------+------+\n",
      "|          0|            94041|               96547|     99234|            104133|        164540|166953|\n",
      "+-----------+-----------------+--------------------+----------+------------------+--------------+------+\n",
      "\n"
     ]
    }
   ],
   "source": [
    "from pyspark.sql.functions import sum as spark_sum, when, col\n",
    "\n",
    "# Créer une expression de somme pour chaque colonne\n",
    "sum_expressions = [spark_sum(when(col(c).isNull(), 1).otherwise(0)).alias(c) for c in datahouse.columns]\n",
    "\n",
    "# Calculer le nombre total de valeurs manquantes dans chaque colonne\n",
    "missing_counts = datahouse.agg(*sum_expressions)\n",
    "\n",
    "# Afficher le nombre de valeurs manquantes dans chaque colonne\n",
    "missing_counts.show()\n"
   ]
  },
  {
   "cell_type": "code",
   "execution_count": 86,
   "id": "c7df5177-1566-4261-a099-734cf9d1970d",
   "metadata": {},
   "outputs": [
    {
     "name": "stdout",
     "output_type": "stream",
     "text": [
      "root\n",
      " |-- athlete_url: string (nullable = true)\n",
      " |-- athlete_full_name: string (nullable = true)\n",
      " |-- games_participations: string (nullable = true)\n",
      " |-- first_game: string (nullable = true)\n",
      " |-- athlete_year_birth: string (nullable = true)\n",
      "\n",
      "+--------------------+--------------------+--------------------+----------------+------------------+\n",
      "|         athlete_url|   athlete_full_name|games_participations|      first_game|athlete_year_birth|\n",
      "+--------------------+--------------------+--------------------+----------------+------------------+\n",
      "|https://olympics....|Cooper WOODS-TOPA...|                   1|    Beijing 2022|              2000|\n",
      "|https://olympics....|      Felix ELOFSSON|                   2|PyeongChang 2018|              1995|\n",
      "|https://olympics....|       Dylan WALCZYK|                   1|    Beijing 2022|              1993|\n",
      "|https://olympics....|       Olli PENTTALA|                   1|    Beijing 2022|              1995|\n",
      "|https://olympics....|    Dmitriy REIKHERD|                   1|    Beijing 2022|              1989|\n",
      "|https://olympics....|         Matt GRAHAM|                   3|      Sochi 2014|              1994|\n",
      "|                   1|                NULL|                NULL|            NULL|              NULL|\n",
      "|                   S|                NULL|                NULL|            NULL|              NULL|\n",
      "|                   ,|                NULL|                NULL|            NULL|              NULL|\n",
      "|https://olympics....|     Ikuma HORISHIMA|                   2|PyeongChang 2018|              1997|\n",
      "|                   1|                NULL|                NULL|            NULL|              NULL|\n",
      "|                   B|                NULL|                NULL|            NULL|              NULL|\n",
      "|                   ,|                NULL|                NULL|            NULL|              NULL|\n",
      "|https://olympics....|         Daichi HARA|                   2|PyeongChang 2018|              1997|\n",
      "|                   1|                NULL|                NULL|            NULL|              NULL|\n",
      "|                   B|                NULL|                NULL|            NULL|              NULL|\n",
      "|                   ,|                NULL|                NULL|            NULL|              NULL|\n",
      "|https://olympics....|      Laurent DUMAIS|                   1|    Beijing 2022|              1996|\n",
      "|https://olympics....|      James MATHESON|                   2|PyeongChang 2018|              1995|\n",
      "|https://olympics....|      Pavel KOLMAKOV|                   3|      Sochi 2014|              1996|\n",
      "+--------------------+--------------------+--------------------+----------------+------------------+\n",
      "only showing top 20 rows\n",
      "\n"
     ]
    }
   ],
   "source": [
    "# Supprimer les colonnes 'athlete_medals' et 'bio'\n",
    "datahouse = datahouse.drop('athlete_medals', 'bio')\n",
    "\n",
    "# Afficher le schéma mis à jour\n",
    "datahouse.printSchema()\n",
    "\n",
    "# Afficher les premières lignes pour vérification\n",
    "datahouse.show()\n"
   ]
  },
  {
   "cell_type": "code",
   "execution_count": 87,
   "id": "84ba915a-adfb-467d-9204-88b4fb162204",
   "metadata": {},
   "outputs": [
    {
     "name": "stdout",
     "output_type": "stream",
     "text": [
      "+--------------------+--------------------+--------------------+--------------------+------------------+\n",
      "|         athlete_url|   athlete_full_name|games_participations|          first_game|athlete_year_birth|\n",
      "+--------------------+--------------------+--------------------+--------------------+------------------+\n",
      "|https://olympics....|Cooper WOODS-TOPA...|                   1|        Beijing 2022|              2000|\n",
      "|https://olympics....|      Felix ELOFSSON|                   2|    PyeongChang 2018|              1995|\n",
      "|https://olympics....|       Dylan WALCZYK|                   1|        Beijing 2022|              1993|\n",
      "|https://olympics....|       Olli PENTTALA|                   1|        Beijing 2022|              1995|\n",
      "|https://olympics....|    Dmitriy REIKHERD|                   1|        Beijing 2022|              1989|\n",
      "|https://olympics....|         Matt GRAHAM|                   3|          Sochi 2014|              1994|\n",
      "|https://olympics....|     Ikuma HORISHIMA|                   2|    PyeongChang 2018|              1997|\n",
      "|https://olympics....|         Daichi HARA|                   2|    PyeongChang 2018|              1997|\n",
      "|https://olympics....|      Laurent DUMAIS|                   1|        Beijing 2022|              1996|\n",
      "|https://olympics....|      James MATHESON|                   2|    PyeongChang 2018|              1995|\n",
      "|https://olympics....|      Pavel KOLMAKOV|                   3|          Sochi 2014|              1996|\n",
      "|https://olympics....|     Kosuke SUGIMOTO|                   1|        Beijing 2022|              1994|\n",
      "|https://olympics....|      Brodie SUMMERS|                   3|          Sochi 2014|              1993|\n",
      "|https://olympics....|      Severi VIERELA|                   1|        Beijing 2022|              2001|\n",
      "|https://olympics....|          Marco TADE|                   1|        Beijing 2022|              1995|\n",
      "|https://olympics....|     William FENELEY|                   1|        Beijing 2022|              1999|\n",
      "|https://olympics....|    Mikael KINGSBURY|                   3|          Sochi 2014|              1992|\n",
      "|A LOCAL SPECIALIT...| among them Jean-...| Olympic mogul ch...| two-time Olympic...| Justine and Chloe|\n",
      "|https://olympics....|          So MATSUDA|                   1|        Beijing 2022|              1999|\n",
      "|https://olympics....|     Walter WALLBERG|                   2|    PyeongChang 2018|              2000|\n",
      "+--------------------+--------------------+--------------------+--------------------+------------------+\n",
      "only showing top 20 rows\n",
      "\n"
     ]
    }
   ],
   "source": [
    "# Supprimer les lignes contenant des valeurs manquantes\n",
    "datahouse = datahouse.na.drop()\n",
    "\n",
    "# Afficher les premières lignes pour vérification\n",
    "datahouse.show()\n"
   ]
  },
  {
   "cell_type": "code",
   "execution_count": 88,
   "id": "2138ed9e-20ca-4e39-b2cf-e9ba163b5d73",
   "metadata": {},
   "outputs": [
    {
     "name": "stdout",
     "output_type": "stream",
     "text": [
      "Taille de la data après suppression des valeurs manquantes: 85808\n"
     ]
    }
   ],
   "source": [
    "# Vérifier la taille de votre DataFrame après suppression des valeurs manquantes\n",
    "data_size_after_cleaning = datahouse.count()\n",
    "\n",
    "# Afficher la taille de votre DataFrame après suppression des valeurs manquantes\n",
    "print(\"Taille de la data après suppression des valeurs manquantes:\", data_size_after_cleaning)\n"
   ]
  },
  {
   "cell_type": "code",
   "execution_count": 89,
   "id": "6a4e0847-c8c8-4bda-a103-b1acf3911046",
   "metadata": {},
   "outputs": [],
   "source": [
    "from pyspark.sql.functions import col\n",
    "\n",
    "# Formater la colonne athlete_url en tant que string\n",
    "datahouse = datahouse.withColumn(\"athlete_url\", col(\"athlete_url\").cast(\"string\"))\n"
   ]
  },
  {
   "cell_type": "code",
   "execution_count": 90,
   "id": "80ec76f9-983a-425d-9d11-475f5fe75687",
   "metadata": {},
   "outputs": [],
   "source": [
    "datahouse = datahouse.withColumn(\"athlete_full_name\", col(\"athlete_full_name\").cast(\"string\"))\n"
   ]
  },
  {
   "cell_type": "code",
   "execution_count": 91,
   "id": "c13d54b3-36f1-4a16-a929-fb0c4cfc19ee",
   "metadata": {},
   "outputs": [],
   "source": [
    "datahouse = datahouse.withColumn(\"games_participations\", col(\"games_participations\").cast(\"integer\"))\n"
   ]
  },
  {
   "cell_type": "code",
   "execution_count": 92,
   "id": "720c7d7c-77a6-4cf0-b6dd-40f6c2c4b49d",
   "metadata": {},
   "outputs": [
    {
     "name": "stdout",
     "output_type": "stream",
     "text": [
      "+--------------------+--------------------+--------------------+--------------------+------------------+-----------+--------+\n",
      "|         athlete_url|   athlete_full_name|games_participations|          first_game|athlete_year_birth|      place|    year|\n",
      "+--------------------+--------------------+--------------------+--------------------+------------------+-----------+--------+\n",
      "|https://olympics....|Cooper WOODS-TOPA...|                   1|        Beijing 2022|              2000|    Beijing|    2022|\n",
      "|https://olympics....|      Felix ELOFSSON|                   2|    PyeongChang 2018|              1995|PyeongChang|    2018|\n",
      "|https://olympics....|       Dylan WALCZYK|                   1|        Beijing 2022|              1993|    Beijing|    2022|\n",
      "|https://olympics....|       Olli PENTTALA|                   1|        Beijing 2022|              1995|    Beijing|    2022|\n",
      "|https://olympics....|    Dmitriy REIKHERD|                   1|        Beijing 2022|              1989|    Beijing|    2022|\n",
      "|https://olympics....|         Matt GRAHAM|                   3|          Sochi 2014|              1994|      Sochi|    2014|\n",
      "|https://olympics....|     Ikuma HORISHIMA|                   2|    PyeongChang 2018|              1997|PyeongChang|    2018|\n",
      "|https://olympics....|         Daichi HARA|                   2|    PyeongChang 2018|              1997|PyeongChang|    2018|\n",
      "|https://olympics....|      Laurent DUMAIS|                   1|        Beijing 2022|              1996|    Beijing|    2022|\n",
      "|https://olympics....|      James MATHESON|                   2|    PyeongChang 2018|              1995|PyeongChang|    2018|\n",
      "|https://olympics....|      Pavel KOLMAKOV|                   3|          Sochi 2014|              1996|      Sochi|    2014|\n",
      "|https://olympics....|     Kosuke SUGIMOTO|                   1|        Beijing 2022|              1994|    Beijing|    2022|\n",
      "|https://olympics....|      Brodie SUMMERS|                   3|          Sochi 2014|              1993|      Sochi|    2014|\n",
      "|https://olympics....|      Severi VIERELA|                   1|        Beijing 2022|              2001|    Beijing|    2022|\n",
      "|https://olympics....|          Marco TADE|                   1|        Beijing 2022|              1995|    Beijing|    2022|\n",
      "|https://olympics....|     William FENELEY|                   1|        Beijing 2022|              1999|    Beijing|    2022|\n",
      "|https://olympics....|    Mikael KINGSBURY|                   3|          Sochi 2014|              1992|      Sochi|    2014|\n",
      "|A LOCAL SPECIALIT...| among them Jean-...|                NULL| two-time Olympic...| Justine and Chloe|           |two-time|\n",
      "|https://olympics....|          So MATSUDA|                   1|        Beijing 2022|              1999|    Beijing|    2022|\n",
      "|https://olympics....|     Walter WALLBERG|                   2|    PyeongChang 2018|              2000|PyeongChang|    2018|\n",
      "+--------------------+--------------------+--------------------+--------------------+------------------+-----------+--------+\n",
      "only showing top 20 rows\n",
      "\n"
     ]
    }
   ],
   "source": [
    "from pyspark.sql.functions import col, split\n",
    "\n",
    "# Diviser la colonne first_game en deux colonnes distinctes : place et année\n",
    "datahouse = datahouse.withColumn(\"place\", split(col(\"first_game\"), \" \")[0])\n",
    "datahouse = datahouse.withColumn(\"year\", split(col(\"first_game\"), \" \")[1])\n",
    "\n",
    "# Afficher le DataFrame pour vérification\n",
    "datahouse.show()\n"
   ]
  },
  {
   "cell_type": "code",
   "execution_count": 93,
   "id": "bef4d807-6854-498c-a5f2-31efbdaeb758",
   "metadata": {},
   "outputs": [],
   "source": [
    "datahouse = datahouse.withColumn(\"athlete_year_birth\", col(\"athlete_year_birth\").cast(\"integer\"))\n"
   ]
  },
  {
   "cell_type": "code",
   "execution_count": 94,
   "id": "04357366-f30b-4717-b92b-dd8f6e2d571f",
   "metadata": {},
   "outputs": [
    {
     "name": "stdout",
     "output_type": "stream",
     "text": [
      "+--------------------+--------------------+--------------------+--------------------+------------------+-----------+--------+\n",
      "|         athlete_url|   athlete_full_name|games_participations|          first_game|athlete_year_birth|      place|    year|\n",
      "+--------------------+--------------------+--------------------+--------------------+------------------+-----------+--------+\n",
      "|https://olympics....|Cooper WOODS-TOPA...|                   1|        Beijing 2022|              2000|    Beijing|    2022|\n",
      "|https://olympics....|      Felix ELOFSSON|                   2|    PyeongChang 2018|              1995|PyeongChang|    2018|\n",
      "|https://olympics....|       Dylan WALCZYK|                   1|        Beijing 2022|              1993|    Beijing|    2022|\n",
      "|https://olympics....|       Olli PENTTALA|                   1|        Beijing 2022|              1995|    Beijing|    2022|\n",
      "|https://olympics....|    Dmitriy REIKHERD|                   1|        Beijing 2022|              1989|    Beijing|    2022|\n",
      "|https://olympics....|         Matt GRAHAM|                   3|          Sochi 2014|              1994|      Sochi|    2014|\n",
      "|https://olympics....|     Ikuma HORISHIMA|                   2|    PyeongChang 2018|              1997|PyeongChang|    2018|\n",
      "|https://olympics....|         Daichi HARA|                   2|    PyeongChang 2018|              1997|PyeongChang|    2018|\n",
      "|https://olympics....|      Laurent DUMAIS|                   1|        Beijing 2022|              1996|    Beijing|    2022|\n",
      "|https://olympics....|      James MATHESON|                   2|    PyeongChang 2018|              1995|PyeongChang|    2018|\n",
      "|https://olympics....|      Pavel KOLMAKOV|                   3|          Sochi 2014|              1996|      Sochi|    2014|\n",
      "|https://olympics....|     Kosuke SUGIMOTO|                   1|        Beijing 2022|              1994|    Beijing|    2022|\n",
      "|https://olympics....|      Brodie SUMMERS|                   3|          Sochi 2014|              1993|      Sochi|    2014|\n",
      "|https://olympics....|      Severi VIERELA|                   1|        Beijing 2022|              2001|    Beijing|    2022|\n",
      "|https://olympics....|          Marco TADE|                   1|        Beijing 2022|              1995|    Beijing|    2022|\n",
      "|https://olympics....|     William FENELEY|                   1|        Beijing 2022|              1999|    Beijing|    2022|\n",
      "|https://olympics....|    Mikael KINGSBURY|                   3|          Sochi 2014|              1992|      Sochi|    2014|\n",
      "|A LOCAL SPECIALIT...| among them Jean-...|                NULL| two-time Olympic...|              NULL|           |two-time|\n",
      "|https://olympics....|          So MATSUDA|                   1|        Beijing 2022|              1999|    Beijing|    2022|\n",
      "|https://olympics....|     Walter WALLBERG|                   2|    PyeongChang 2018|              2000|PyeongChang|    2018|\n",
      "+--------------------+--------------------+--------------------+--------------------+------------------+-----------+--------+\n",
      "only showing top 20 rows\n",
      "\n"
     ]
    }
   ],
   "source": [
    "from pyspark.sql.functions import col, regexp_extract, when, to_date\n",
    "\n",
    "# Filtrer les lignes où la colonne athlete_year_birth ne contient pas d'année valide\n",
    "datahouse = datahouse.withColumn(\"is_valid_year\", regexp_extract(col(\"athlete_year_birth\"), \"\\\\d{4}\", 0).isNotNull())\n",
    "\n",
    "# Remplacer les valeurs inappropriées par null\n",
    "datahouse = datahouse.withColumn(\"athlete_year_birth\", when(col(\"is_valid_year\"), col(\"athlete_year_birth\")).otherwise(None))\n",
    "\n",
    "# Convertir la colonne en date\n",
    "#datahouse = datahouse.withColumn(\"athlete_year_birth\", to_date(\"athlete_year_birth\", \"yyyy\"))\n",
    "\n",
    "# Supprimer la colonne temporaire\n",
    "datahouse = datahouse.drop(\"is_valid_year\")\n",
    "\n",
    "# Afficher le DataFrame pour vérification\n",
    "datahouse.show()\n"
   ]
  },
  {
   "cell_type": "code",
   "execution_count": 95,
   "id": "73cf628c-9930-4cf2-8278-ac29cc223d2e",
   "metadata": {
    "collapsed": true,
    "jupyter": {
     "outputs_hidden": true
    }
   },
   "outputs": [
    {
     "name": "stdout",
     "output_type": "stream",
     "text": [
      "+--------------------+--------------------+--------------------+----------------+------------------+-----------+----+\n",
      "|         athlete_url|   athlete_full_name|games_participations|      first_game|athlete_year_birth|      place|year|\n",
      "+--------------------+--------------------+--------------------+----------------+------------------+-----------+----+\n",
      "|https://olympics....|Cooper WOODS-TOPA...|                   1|    Beijing 2022|              2000|    Beijing|2022|\n",
      "|https://olympics....|      Felix ELOFSSON|                   2|PyeongChang 2018|              1995|PyeongChang|2018|\n",
      "|https://olympics....|       Dylan WALCZYK|                   1|    Beijing 2022|              1993|    Beijing|2022|\n",
      "|https://olympics....|       Olli PENTTALA|                   1|    Beijing 2022|              1995|    Beijing|2022|\n",
      "|https://olympics....|    Dmitriy REIKHERD|                   1|    Beijing 2022|              1989|    Beijing|2022|\n",
      "|https://olympics....|         Matt GRAHAM|                   3|      Sochi 2014|              1994|      Sochi|2014|\n",
      "|https://olympics....|     Ikuma HORISHIMA|                   2|PyeongChang 2018|              1997|PyeongChang|2018|\n",
      "|https://olympics....|         Daichi HARA|                   2|PyeongChang 2018|              1997|PyeongChang|2018|\n",
      "|https://olympics....|      Laurent DUMAIS|                   1|    Beijing 2022|              1996|    Beijing|2022|\n",
      "|https://olympics....|      James MATHESON|                   2|PyeongChang 2018|              1995|PyeongChang|2018|\n",
      "|https://olympics....|      Pavel KOLMAKOV|                   3|      Sochi 2014|              1996|      Sochi|2014|\n",
      "|https://olympics....|     Kosuke SUGIMOTO|                   1|    Beijing 2022|              1994|    Beijing|2022|\n",
      "|https://olympics....|      Brodie SUMMERS|                   3|      Sochi 2014|              1993|      Sochi|2014|\n",
      "|https://olympics....|      Severi VIERELA|                   1|    Beijing 2022|              2001|    Beijing|2022|\n",
      "|https://olympics....|          Marco TADE|                   1|    Beijing 2022|              1995|    Beijing|2022|\n",
      "|https://olympics....|     William FENELEY|                   1|    Beijing 2022|              1999|    Beijing|2022|\n",
      "|https://olympics....|    Mikael KINGSBURY|                   3|      Sochi 2014|              1992|      Sochi|2014|\n",
      "|https://olympics....|          So MATSUDA|                   1|    Beijing 2022|              1999|    Beijing|2022|\n",
      "|https://olympics....|     Walter WALLBERG|                   2|PyeongChang 2018|              2000|PyeongChang|2018|\n",
      "|https://olympics....|      Bradley WILSON|                   3|      Sochi 2014|              1992|      Sochi|2014|\n",
      "+--------------------+--------------------+--------------------+----------------+------------------+-----------+----+\n",
      "only showing top 20 rows\n",
      "\n"
     ]
    }
   ],
   "source": [
    "datahouse = datahouse.na.drop()\n",
    "datahouse.show()"
   ]
  },
  {
   "cell_type": "code",
   "execution_count": 97,
   "id": "db149ce3-96bb-4e25-879f-834d73832111",
   "metadata": {},
   "outputs": [
    {
     "name": "stdout",
     "output_type": "stream",
     "text": [
      "+--------------------+--------------------+--------------------+----------------+------------------+-----------+----+\n",
      "|         athlete_url|   athlete_full_name|games_participations|      first_game|athlete_year_birth|      place|year|\n",
      "+--------------------+--------------------+--------------------+----------------+------------------+-----------+----+\n",
      "|https://olympics....|Cooper WOODS-TOPA...|                   1|    Beijing 2022|              2000|    Beijing|2022|\n",
      "|https://olympics....|      Felix ELOFSSON|                   2|PyeongChang 2018|              1995|PyeongChang|2018|\n",
      "|https://olympics....|       Dylan WALCZYK|                   1|    Beijing 2022|              1993|    Beijing|2022|\n",
      "|https://olympics....|       Olli PENTTALA|                   1|    Beijing 2022|              1995|    Beijing|2022|\n",
      "|https://olympics....|    Dmitriy REIKHERD|                   1|    Beijing 2022|              1989|    Beijing|2022|\n",
      "|https://olympics....|         Matt GRAHAM|                   3|      Sochi 2014|              1994|      Sochi|2014|\n",
      "|https://olympics....|     Ikuma HORISHIMA|                   2|PyeongChang 2018|              1997|PyeongChang|2018|\n",
      "|https://olympics....|         Daichi HARA|                   2|PyeongChang 2018|              1997|PyeongChang|2018|\n",
      "|https://olympics....|      Laurent DUMAIS|                   1|    Beijing 2022|              1996|    Beijing|2022|\n",
      "|https://olympics....|      James MATHESON|                   2|PyeongChang 2018|              1995|PyeongChang|2018|\n",
      "|https://olympics....|      Pavel KOLMAKOV|                   3|      Sochi 2014|              1996|      Sochi|2014|\n",
      "|https://olympics....|     Kosuke SUGIMOTO|                   1|    Beijing 2022|              1994|    Beijing|2022|\n",
      "|https://olympics....|      Brodie SUMMERS|                   3|      Sochi 2014|              1993|      Sochi|2014|\n",
      "|https://olympics....|      Severi VIERELA|                   1|    Beijing 2022|              2001|    Beijing|2022|\n",
      "|https://olympics....|          Marco TADE|                   1|    Beijing 2022|              1995|    Beijing|2022|\n",
      "|https://olympics....|     William FENELEY|                   1|    Beijing 2022|              1999|    Beijing|2022|\n",
      "|https://olympics....|    Mikael KINGSBURY|                   3|      Sochi 2014|              1992|      Sochi|2014|\n",
      "|https://olympics....|          So MATSUDA|                   1|    Beijing 2022|              1999|    Beijing|2022|\n",
      "|https://olympics....|     Walter WALLBERG|                   2|PyeongChang 2018|              2000|PyeongChang|2018|\n",
      "|https://olympics....|      Bradley WILSON|                   3|      Sochi 2014|              1992|      Sochi|2014|\n",
      "+--------------------+--------------------+--------------------+----------------+------------------+-----------+----+\n",
      "only showing top 20 rows\n",
      "\n"
     ]
    }
   ],
   "source": [
    "from pyspark.sql.functions import regexp_extract, when\n",
    "\n",
    "# Définir une expression régulière pour extraire les années au format yyyy\n",
    "year_regex = r'\\b\\d{4}\\b'\n",
    "\n",
    "# Appliquer l'expression régulière pour extraire les années de la colonne 'year'\n",
    "cleaned_year = when(datahouse['year'].rlike(year_regex), datahouse['year']).otherwise(None)\n",
    "\n",
    "# Ajouter une nouvelle colonne 'cleaned_year' avec les années nettoyées\n",
    "datahouse = datahouse.withColumn('cleaned_year', cleaned_year)\n",
    "\n",
    "# Supprimer la colonne 'year' originale\n",
    "datahouse = datahouse.drop('year')\n",
    "\n",
    "# Renommer la colonne nettoyée en 'year'\n",
    "datahouse = datahouse.withColumnRenamed('cleaned_year', 'year')\n",
    "\n",
    "# Afficher le DataFrame avec la colonne 'year' nettoyée\n",
    "datahouse.show()\n"
   ]
  },
  {
   "cell_type": "code",
   "execution_count": 98,
   "id": "41177c1a-34a3-4049-bfc5-3932e1fbea36",
   "metadata": {},
   "outputs": [
    {
     "name": "stdout",
     "output_type": "stream",
     "text": [
      "+--------------------+-------------------+--------------------+----------------+------------------+-----------+----+\n",
      "|         athlete_url|  athlete_full_name|games_participations|      first_game|athlete_year_birth|      place|year|\n",
      "+--------------------+-------------------+--------------------+----------------+------------------+-----------+----+\n",
      "|https://olympics....|  Arianna VALCEPINA|                   1|    Beijing 2022|              1994|    Beijing|2022|\n",
      "|https://olympics....|         Tess COADY|                   1|    Beijing 2022|              2000|    Beijing|2022|\n",
      "|https://olympics....|       Lisa SCHULTE|                   1|    Beijing 2022|              2000|    Beijing|2022|\n",
      "|https://olympics....|         Julia KERN|                   1|    Beijing 2022|              1997|    Beijing|2022|\n",
      "|https://olympics....|     Gus SCHUMACHER|                   1|    Beijing 2022|              2000|    Beijing|2022|\n",
      "|https://olympics....|   Delphine CLAUDEL|                   2|PyeongChang 2018|              1996|PyeongChang|2018|\n",
      "|https://olympics....|      Osama ELSAEID|                   1|      Tokyo 2020|              1986|      Tokyo|2020|\n",
      "|https://olympics....|        Naoya OKADA|                   2|        Rio 2016|              1990|        Rio|2016|\n",
      "|https://olympics....|  Andrea PEREZ PENA|                   2|        Rio 2016|              1990|        Rio|2016|\n",
      "|https://olympics....|           Suji KIM|                   2|     London 2012|              1998|     London|2012|\n",
      "|https://olympics....|          Jule HAKE|                   1|      Tokyo 2020|              1999|      Tokyo|2020|\n",
      "|https://olympics....|      Daniel ASENOV|                   2|        Rio 2016|              1997|        Rio|2016|\n",
      "|https://olympics....|      Lukas HOLLAUS|                   1|      Tokyo 2020|              1986|      Tokyo|2020|\n",
      "|https://olympics....|    Orawan PARANANG|                   1|      Tokyo 2020|              1997|      Tokyo|2020|\n",
      "|https://olympics....|     Houssam ELKORD|                   1|      Tokyo 2020|              1993|      Tokyo|2020|\n",
      "|https://olympics....|    Ruslan KURBANOV|                   1|      Tokyo 2020|              1991|      Tokyo|2020|\n",
      "|https://olympics....|Pablo CARRENO BUSTA|                   1|      Tokyo 2020|              1991|      Tokyo|2020|\n",
      "|https://olympics....| Nantenaina FINESSE|                   1|      Tokyo 2020|              1996|      Tokyo|2020|\n",
      "|https://olympics....|     Zelym KOTSOIEV|                   1|      Tokyo 2020|              1998|      Tokyo|2020|\n",
      "|https://olympics....|        Nurul AKMAL|                   1|      Tokyo 2020|              1993|      Tokyo|2020|\n",
      "+--------------------+-------------------+--------------------+----------------+------------------+-----------+----+\n",
      "only showing top 20 rows\n",
      "\n"
     ]
    }
   ],
   "source": [
    "# Supprimer les doublons du DataFrame\n",
    "datahouse = datahouse.dropDuplicates()\n",
    "\n",
    "# Afficher le DataFrame sans doublons\n",
    "datahouse.show()\n"
   ]
  },
  {
   "cell_type": "code",
   "execution_count": 102,
   "id": "a5ccee6a-e510-42d7-9a49-87da93eb164b",
   "metadata": {},
   "outputs": [
    {
     "name": "stdout",
     "output_type": "stream",
     "text": [
      "Taille de la data après suppression des valeurs dupliqué: 73456\n"
     ]
    }
   ],
   "source": [
    "# Vérifier la taille de votre DataFrame après suppression des valeurs manquantes\n",
    "data_size_after_duplication = datahouse.count()\n",
    "\n",
    "# Afficher la taille de votre DataFrame après suppression des valeurs manquantes\n",
    "print(\"Taille de la data après suppression des valeurs dupliqué:\", data_size_after_duplication)"
   ]
  },
  {
   "cell_type": "code",
   "execution_count": 103,
   "id": "091ac95f-13f9-410d-a0d2-c49ee42092b7",
   "metadata": {},
   "outputs": [],
   "source": [
    "# Écrire les données dans un seul fichier CSV\n",
    "datahouse.coalesce(1).write.csv(\"work/model/olympic_medals_clean.csv\", header=True)\n"
   ]
  }
 ],
 "metadata": {
  "kernelspec": {
   "display_name": "Python 3 (ipykernel)",
   "language": "python",
   "name": "python3"
  },
  "language_info": {
   "codemirror_mode": {
    "name": "ipython",
    "version": 3
   },
   "file_extension": ".py",
   "mimetype": "text/x-python",
   "name": "python",
   "nbconvert_exporter": "python",
   "pygments_lexer": "ipython3",
   "version": "3.11.6"
  }
 },
 "nbformat": 4,
 "nbformat_minor": 5
}
