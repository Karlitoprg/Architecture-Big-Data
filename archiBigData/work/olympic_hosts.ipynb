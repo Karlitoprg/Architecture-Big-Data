{
 "cells": [
  {
   "cell_type": "code",
   "execution_count": 72,
   "id": "379d2950-90d8-4e9a-a03a-b2a89790a7ba",
   "metadata": {},
   "outputs": [],
   "source": [
    "# Importez les modules nécessaires\n",
    "from pyspark.context import SparkContext\n",
    "from pyspark.sql.session import SparkSession\n",
    "from pyspark.sql.functions import col\n",
    "from pyspark.sql.functions import floor\n",
    "from pyspark.sql.functions import count\n",
    "from pyspark.sql.functions import year\n",
    "from pyspark.sql.functions import datediff\n",
    "from pyspark.sql.functions import countDistinct\n"
   ]
  },
  {
   "cell_type": "code",
   "execution_count": 11,
   "id": "8639fe47-7f28-4234-bbfe-db4adc67930b",
   "metadata": {},
   "outputs": [],
   "source": [
    "# Créez une session Spark\n",
    "spark = SparkSession.builder \\\n",
    "    .appName(\"Nettoyage de données olympiques\") \\\n",
    "    .getOrCreate()"
   ]
  },
  {
   "cell_type": "code",
   "execution_count": 14,
   "id": "26fd3050-e5c8-499c-9c24-8bb3b55700d7",
   "metadata": {},
   "outputs": [],
   "source": [
    "# Chargez les données dans un DataFrame Spark\n",
    "hosts_df = spark.read.csv(\"hdfs://namenode:9000/data/staging/olympic_hosts.csv\", header=True, inferSchema=True)"
   ]
  },
  {
   "cell_type": "code",
   "execution_count": 19,
   "id": "3c11cd9f-8fb1-48b6-b080-cf5a31d76388",
   "metadata": {},
   "outputs": [
    {
     "name": "stdout",
     "output_type": "stream",
     "text": [
      "+----------------+-------------------+-------------------+------------------+----------------+-----------+---------+\n",
      "|game_slug       |game_end_date      |game_start_date    |game_location     |game_name       |game_season|game_year|\n",
      "+----------------+-------------------+-------------------+------------------+----------------+-----------+---------+\n",
      "|beijing-2022    |2022-02-20 12:00:00|2022-02-04 15:00:00|China             |Beijing 2022    |Winter     |2022     |\n",
      "|tokyo-2020      |2021-08-08 14:00:00|2021-07-23 11:00:00|Japan             |Tokyo 2020      |Summer     |2020     |\n",
      "|pyeongchang-2018|2018-02-25 08:00:00|2018-02-08 23:00:00|Republic of Korea |PyeongChang 2018|Winter     |2018     |\n",
      "|rio-2016        |2016-08-21 21:00:00|2016-08-05 12:00:00|Brazil            |Rio 2016        |Summer     |2016     |\n",
      "|sochi-2014      |2014-02-23 16:00:00|2014-02-07 04:00:00|Russian Federation|Sochi 2014      |Winter     |2014     |\n",
      "+----------------+-------------------+-------------------+------------------+----------------+-----------+---------+\n",
      "only showing top 5 rows\n",
      "\n"
     ]
    }
   ],
   "source": [
    "hosts_df.show(5, truncate=False)"
   ]
  },
  {
   "cell_type": "code",
   "execution_count": 15,
   "id": "07aba31b-81a6-495e-924b-56cc1264415c",
   "metadata": {},
   "outputs": [
    {
     "name": "stdout",
     "output_type": "stream",
     "text": [
      "root\n",
      " |-- game_slug: string (nullable = true)\n",
      " |-- game_end_date: timestamp (nullable = true)\n",
      " |-- game_start_date: timestamp (nullable = true)\n",
      " |-- game_location: string (nullable = true)\n",
      " |-- game_name: string (nullable = true)\n",
      " |-- game_season: string (nullable = true)\n",
      " |-- game_year: integer (nullable = true)\n",
      "\n"
     ]
    }
   ],
   "source": [
    "# Vérifiez les types de données\n",
    "hosts_df.printSchema()"
   ]
  },
  {
   "cell_type": "code",
   "execution_count": 17,
   "id": "77761f44-1aad-4019-8a68-670264e0de7d",
   "metadata": {},
   "outputs": [
    {
     "name": "stdout",
     "output_type": "stream",
     "text": [
      "Valeurs manquantes par colonne :  {'game_slug': 0, 'game_end_date': 0, 'game_start_date': 0, 'game_location': 0, 'game_name': 0, 'game_season': 0, 'game_year': 0}\n"
     ]
    }
   ],
   "source": [
    "# Comptez les valeurs manquantes dans chaque colonne\n",
    "missing_values = {c: hosts_df.where(col(c).isNull()).count() for c in hosts_df.columns}\n",
    "print(\"Valeurs manquantes par colonne : \", missing_values)"
   ]
  },
  {
   "cell_type": "code",
   "execution_count": 18,
   "id": "7b252d23-08ff-43e9-b626-1f54f6b4f5d5",
   "metadata": {},
   "outputs": [],
   "source": [
    "# Normalisez les noms de colonnes si nécessaire\n",
    "# Nous pouvons convertir les noms de colonnes en minuscules\n",
    "hosts_df = hosts_df.toDF(*(c.lower() for c in hosts_df.columns))"
   ]
  },
  {
   "cell_type": "code",
   "execution_count": 19,
   "id": "ab9600d6-1ecc-4a61-92e3-24e4fbce41a0",
   "metadata": {},
   "outputs": [
    {
     "name": "stdout",
     "output_type": "stream",
     "text": [
      "+----------------+-------------------+-------------------+------------------+----------------+-----------+---------+\n",
      "|game_slug       |game_end_date      |game_start_date    |game_location     |game_name       |game_season|game_year|\n",
      "+----------------+-------------------+-------------------+------------------+----------------+-----------+---------+\n",
      "|beijing-2022    |2022-02-20 12:00:00|2022-02-04 15:00:00|China             |Beijing 2022    |Winter     |2022     |\n",
      "|tokyo-2020      |2021-08-08 14:00:00|2021-07-23 11:00:00|Japan             |Tokyo 2020      |Summer     |2020     |\n",
      "|pyeongchang-2018|2018-02-25 08:00:00|2018-02-08 23:00:00|Republic of Korea |PyeongChang 2018|Winter     |2018     |\n",
      "|rio-2016        |2016-08-21 21:00:00|2016-08-05 12:00:00|Brazil            |Rio 2016        |Summer     |2016     |\n",
      "|sochi-2014      |2014-02-23 16:00:00|2014-02-07 04:00:00|Russian Federation|Sochi 2014      |Winter     |2014     |\n",
      "+----------------+-------------------+-------------------+------------------+----------------+-----------+---------+\n",
      "only showing top 5 rows\n",
      "\n"
     ]
    }
   ],
   "source": [
    "hosts_df.show(5, truncate=False)"
   ]
  },
  {
   "cell_type": "code",
   "execution_count": 44,
   "id": "ec352228-8cd6-46f2-9d75-5bcc8db31fca",
   "metadata": {},
   "outputs": [
    {
     "name": "stdout",
     "output_type": "stream",
     "text": [
      "Aucun doublon dans le DataFrame.\n"
     ]
    }
   ],
   "source": [
    "# Vérifier s'il y a des doublons dans le DataFrame\n",
    "duplicates_df = hosts_df.groupBy(hosts_df.columns).count().where(\"count > 1\")\n",
    "\n",
    "if duplicates_df.count() > 0:\n",
    "    print(\"Il y a des doublons dans le DataFrame.\")\n",
    "    # Supprimer les doublons\n",
    "    cleaned_df = hosts_df.dropDuplicates()\n",
    "    print(\"Doublons supprimés.\")\n",
    "else:\n",
    "    print(\"Aucun doublon dans le DataFrame.\")\n",
    "    cleaned_df = hosts_df\n"
   ]
  },
  {
   "cell_type": "code",
   "execution_count": 45,
   "id": "9ec4c48f-4c5a-478f-8497-f76e93fea8b1",
   "metadata": {},
   "outputs": [],
   "source": [
    "# Supprimer les lignes contenant des valeurs nulles dans toutes les colonnes\n",
    "cleaned_df = hosts_df.dropna()"
   ]
  },
  {
   "cell_type": "code",
   "execution_count": 46,
   "id": "dc2ca684-d1d4-44be-9983-31314c30b325",
   "metadata": {},
   "outputs": [],
   "source": [
    "\n",
    "# Supprimer les lignes contenant des valeurs nulles dans une colonne spécifique (par exemple 'game_year')\n",
    "cleaned_df = hosts_df.dropna(subset=['game_year'])\n"
   ]
  },
  {
   "cell_type": "code",
   "execution_count": 52,
   "id": "5560ca9e-3f64-4d43-87d2-a06db0c5b031",
   "metadata": {},
   "outputs": [],
   "source": [
    "\n",
    "# Supprimer les lignes contenant des valeurs nulles dans une colonne spécifique (par exemple 'game_year')\n",
    "cleaned_df = hosts_df.dropna(subset=['game_season'])\n"
   ]
  },
  {
   "cell_type": "code",
   "execution_count": 58,
   "id": "dbfaf657-99a9-43a8-8964-6abbd5a5935d",
   "metadata": {},
   "outputs": [
    {
     "name": "stdout",
     "output_type": "stream",
     "text": [
      "+-------------------+-------------------+-------------------+------------------+-------------------+-----------+---------+\n",
      "|          game_slug|      game_end_date|    game_start_date|     game_location|          game_name|game_season|game_year|\n",
      "+-------------------+-------------------+-------------------+------------------+-------------------+-----------+---------+\n",
      "|       beijing-2022|2022-02-20 12:00:00|2022-02-04 15:00:00|             China|       Beijing 2022|     Winter|     2022|\n",
      "|         tokyo-2020|2021-08-08 14:00:00|2021-07-23 11:00:00|             Japan|         Tokyo 2020|     Summer|     2020|\n",
      "|   pyeongchang-2018|2018-02-25 08:00:00|2018-02-08 23:00:00| Republic of Korea|   PyeongChang 2018|     Winter|     2018|\n",
      "|           rio-2016|2016-08-21 21:00:00|2016-08-05 12:00:00|            Brazil|           Rio 2016|     Summer|     2016|\n",
      "|         sochi-2014|2014-02-23 16:00:00|2014-02-07 04:00:00|Russian Federation|         Sochi 2014|     Winter|     2014|\n",
      "|        london-2012|2012-08-12 19:00:00|2012-07-27 07:00:00|     Great Britain|        London 2012|     Summer|     2012|\n",
      "|     vancouver-2010|2010-02-28 04:00:00|2010-02-12 16:00:00|            Canada|     Vancouver 2010|     Winter|     2010|\n",
      "|       beijing-2008|2008-08-24 12:00:00|2008-08-08 00:00:00|             China|       Beijing 2008|     Summer|     2008|\n",
      "|         turin-2006|2006-02-26 19:00:00|2006-02-10 07:00:00|             Italy|         Turin 2006|     Winter|     2006|\n",
      "|        athens-2004|2004-08-29 18:00:00|2004-08-13 06:00:00|            Greece|        Athens 2004|     Summer|     2004|\n",
      "|salt-lake-city-2002|2002-02-24 08:00:00|2002-02-08 15:00:00|     United States|Salt Lake City 2002|     Winter|     2002|\n",
      "|        sydney-2000|2000-10-01 09:00:00|2000-09-15 01:00:00|         Australia|        Sydney 2000|     Summer|     2000|\n",
      "|        nagano-1998|1998-02-22 11:00:00|1998-02-06 23:00:00|             Japan|        Nagano 1998|     Winter|     1998|\n",
      "|       atlanta-1996|1996-08-05 21:00:00|1996-07-19 12:00:00|     United States|       Atlanta 1996|     Summer|     1996|\n",
      "|   lillehammer-1994|1994-02-27 19:00:00|1994-02-12 07:00:00|            Norway|   Lillehammer 1994|     Winter|     1994|\n",
      "|     barcelona-1992|1992-08-09 18:00:00|1992-07-25 06:00:00|             Spain|     Barcelona 1992|     Summer|     1992|\n",
      "|   albertville-1992|1992-02-23 19:00:00|1992-02-08 07:00:00|            France|   Albertville 1992|     Winter|     1992|\n",
      "|         seoul-1988|1988-10-02 10:00:00|1988-09-16 22:00:00| Republic of Korea|         Seoul 1988|     Summer|     1988|\n",
      "|       calgary-1988|1988-02-28 03:00:00|1988-02-13 15:00:00|            Canada|       Calgary 1988|     Winter|     1988|\n",
      "|   los-angeles-1984|1984-08-12 19:00:00|1984-07-28 15:00:00|     United States|   Los Angeles 1984|     Summer|     1984|\n",
      "+-------------------+-------------------+-------------------+------------------+-------------------+-----------+---------+\n",
      "only showing top 20 rows\n",
      "\n"
     ]
    }
   ],
   "source": [
    "# Afficher le DataFrame nettoyé\n",
    "cleaned_df.show()"
   ]
  },
  {
   "cell_type": "code",
   "execution_count": 54,
   "id": "1dc11d45-2010-477e-bf21-d6051d2514e2",
   "metadata": {},
   "outputs": [],
   "source": [
    "# Chemin où vous souhaitez enregistrer le fichier CSV traité\n",
    "output_path = \"hdfs://namenode:9000/data/staging/output.csv\""
   ]
  },
  {
   "cell_type": "code",
   "execution_count": 59,
   "id": "be398ce2-196a-4fe9-a37e-f4bfb09f4f8e",
   "metadata": {},
   "outputs": [],
   "source": [
    "#cleaned_df.write.option(\"header\", \"true\").csv(output_path, mode='overwrite', sep=',')\n",
    "cleaned_df.write.csv(\"work/model/olympic_hosts_clean.csv\", header=True)"
   ]
  },
  {
   "cell_type": "markdown",
   "id": "924a97ab-b60c-4f44-bb92-c8b446daad51",
   "metadata": {},
   "source": [
    "1- Répartition des jeux olympiques par saison "
   ]
  },
  {
   "cell_type": "code",
   "execution_count": 62,
   "id": "7b587912-a073-4012-8719-905476d49923",
   "metadata": {},
   "outputs": [
    {
     "name": "stdout",
     "output_type": "stream",
     "text": [
      "+-----------+-----+\n",
      "|game_season|count|\n",
      "+-----------+-----+\n",
      "|     Summer|   29|\n",
      "|     Winter|   24|\n",
      "+-----------+-----+\n",
      "\n"
     ]
    }
   ],
   "source": [
    "# Calculer le nombre de jeux olympiques par saison\n",
    "season_counts = cleaned_df.groupBy('game_season').agg(count('*').alias('count'))\n",
    "\n",
    "# Afficher la répartition\n",
    "season_counts.show()"
   ]
  },
  {
   "cell_type": "markdown",
   "id": "dc8a8cf5-c1bc-4b55-8501-ed445d8a51f0",
   "metadata": {},
   "source": [
    "1-1- Graphique pour la répartition des jeux olympiques par saison"
   ]
  },
  {
   "cell_type": "code",
   "execution_count": 75,
   "id": "d1187576-4df7-4f64-bb2a-6cf280178831",
   "metadata": {},
   "outputs": [
    {
     "data": {
      "image/png": "[encoded data removed]",
      "text/plain": [
       "<Figure size 1000x600 with 1 Axes>"
      ]
     },
     "metadata": {},
     "output_type": "display_data"
    }
   ],
   "source": [
    "import matplotlib.pyplot as plt\n",
    "\n",
    "# Extraire les données pour le graphique\n",
    "season_counts = season_frequency.toPandas()\n",
    "\n",
    "# Créer le graphique\n",
    "plt.figure(figsize=(10, 6))\n",
    "plt.bar(season_counts['game_season'], season_counts['num_occurrences'], color='skyblue')\n",
    "plt.title('Répartition des Jeux Olympiques par saison')\n",
    "plt.xlabel('Saison')\n",
    "plt.ylabel('Nombre de Jeux Olympiques')\n",
    "plt.xticks(rotation=45)\n",
    "plt.grid(axis='y', linestyle='--', alpha=0.7)\n",
    "plt.tight_layout()\n",
    "plt.show()\n"
   ]
  },
  {
   "cell_type": "markdown",
   "id": "79437bee-e45f-4c79-97c1-e4e97a152baf",
   "metadata": {},
   "source": [
    "2- Répartition des jeux olympiques par pays hôte "
   ]
  },
  {
   "cell_type": "code",
   "execution_count": 63,
   "id": "1e9e45ff-4e6d-4868-a541-6fee688d33d2",
   "metadata": {},
   "outputs": [
    {
     "name": "stdout",
     "output_type": "stream",
     "text": [
      "+--------------------+-----+\n",
      "|       game_location|count|\n",
      "+--------------------+-----+\n",
      "|              Sweden|    1|\n",
      "|   Republic of Korea|    2|\n",
      "|             Germany|    2|\n",
      "|              France|    5|\n",
      "|              Greece|    2|\n",
      "|             Belgium|    1|\n",
      "|       Great Britain|    3|\n",
      "|             Finland|    1|\n",
      "|               China|    2|\n",
      "|       United States|    8|\n",
      "|               Italy|    3|\n",
      "|              Norway|    2|\n",
      "|               Spain|    1|\n",
      "|  Russian Federation|    1|\n",
      "|Federal Republic ...|    1|\n",
      "|              Mexico|    1|\n",
      "|          Yugoslavia|    1|\n",
      "|         Switzerland|    2|\n",
      "|              Canada|    3|\n",
      "|                USSR|    1|\n",
      "+--------------------+-----+\n",
      "only showing top 20 rows\n",
      "\n"
     ]
    }
   ],
   "source": [
    "# Calculer le nombre de jeux olympiques par pays hôte\n",
    "country_counts = cleaned_df.groupBy('game_location').agg(count('*').alias('count'))\n",
    "\n",
    "# Afficher la répartition\n",
    "country_counts.show()"
   ]
  },
  {
   "cell_type": "markdown",
   "id": "574a8d6a-3459-413a-9a63-3a6c30c77aca",
   "metadata": {},
   "source": [
    "3-Tendance temporelle des jeux olympiques "
   ]
  },
  {
   "cell_type": "code",
   "execution_count": 66,
   "id": "ba0c3819-4eeb-459e-b164-9c7e47da4981",
   "metadata": {},
   "outputs": [
    {
     "name": "stdout",
     "output_type": "stream",
     "text": [
      "+----------+-----+\n",
      "|start_year|count|\n",
      "+----------+-----+\n",
      "|      1896|    1|\n",
      "|      1924|    2|\n",
      "|      2018|    1|\n",
      "|      2006|    1|\n",
      "|      2022|    1|\n",
      "|      1908|    1|\n",
      "|      1952|    2|\n",
      "|      1956|    2|\n",
      "|      1988|    2|\n",
      "|      1994|    1|\n",
      "|      1968|    2|\n",
      "|      2014|    1|\n",
      "|      1904|    1|\n",
      "|      2004|    1|\n",
      "|      1932|    2|\n",
      "|      1996|    1|\n",
      "|      1998|    1|\n",
      "|      1960|    2|\n",
      "|      2012|    1|\n",
      "|      1912|    1|\n",
      "+----------+-----+\n",
      "only showing top 20 rows\n",
      "\n"
     ]
    }
   ],
   "source": [
    "# Extraire l'année des dates de début des jeux olympiques\n",
    "year_counts = cleaned_df.withColumn('start_year', year('game_start_date')).groupBy('start_year').agg(count('*').alias('count'))\n",
    "\n",
    "# Afficher la tendance temporelle\n",
    "year_counts.show()"
   ]
  },
  {
   "cell_type": "markdown",
   "id": "3c6f0ff0-9b83-48cc-b4b8-b7ab5a5a481b",
   "metadata": {},
   "source": [
    "4- Analyse des décennies "
   ]
  },
  {
   "cell_type": "code",
   "execution_count": 68,
   "id": "9dedef88-cd2c-425c-bcf0-408151a5ac06",
   "metadata": {},
   "outputs": [
    {
     "name": "stdout",
     "output_type": "stream",
     "text": [
      "+------+-----------+-----+\n",
      "|decade|game_season|count|\n",
      "+------+-----------+-----+\n",
      "|  1930|     Winter|    2|\n",
      "|  2010|     Summer|    2|\n",
      "|  1890|     Summer|    1|\n",
      "|  2020|     Summer|    1|\n",
      "|  1930|     Summer|    2|\n",
      "|  1990|     Winter|    3|\n",
      "|  1990|     Summer|    2|\n",
      "|  2000|     Summer|    3|\n",
      "|  2020|     Winter|    1|\n",
      "|  2000|     Winter|    2|\n",
      "|  1940|     Summer|    1|\n",
      "|  2010|     Winter|    3|\n",
      "|  1960|     Winter|    3|\n",
      "|  1920|     Winter|    2|\n",
      "|  1950|     Winter|    2|\n",
      "|  1980|     Winter|    3|\n",
      "|  1980|     Summer|    3|\n",
      "|  1900|     Summer|    3|\n",
      "|  1920|     Summer|    3|\n",
      "|  1970|     Winter|    2|\n",
      "+------+-----------+-----+\n",
      "only showing top 20 rows\n",
      "\n"
     ]
    }
   ],
   "source": [
    "# Calculer la décennie pour chaque jeu olympique\n",
    "cleaned_df = cleaned_df.withColumn('decade', floor(col('game_year') / 10) * 10)\n",
    "\n",
    "# Répartition des jeux olympiques par décennie et par saison\n",
    "decade_season_counts = cleaned_df.groupBy('decade', 'game_season').agg(count('*').alias('count'))\n",
    "\n",
    "# Afficher la répartition\n",
    "decade_season_counts.show()"
   ]
  },
  {
   "cell_type": "markdown",
   "id": "834ab04e-cd2f-4f01-a2ef-4f9e44805ca6",
   "metadata": {},
   "source": [
    "5- Analyse des durées des jeux olympiques "
   ]
  },
  {
   "cell_type": "code",
   "execution_count": 83,
   "id": "0cc339b3-5e22-4c12-9bb1-635a59784325",
   "metadata": {},
   "outputs": [
    {
     "name": "stdout",
     "output_type": "stream",
     "text": [
      "+-------------------+-------------+\n",
      "|          game_name|duration_days|\n",
      "+-------------------+-------------+\n",
      "|       Beijing 2022|           16|\n",
      "|         Tokyo 2020|           16|\n",
      "|   PyeongChang 2018|           17|\n",
      "|           Rio 2016|           16|\n",
      "|         Sochi 2014|           16|\n",
      "|        London 2012|           16|\n",
      "|     Vancouver 2010|           16|\n",
      "|       Beijing 2008|           16|\n",
      "|         Turin 2006|           16|\n",
      "|        Athens 2004|           16|\n",
      "|Salt Lake City 2002|           16|\n",
      "|        Sydney 2000|           16|\n",
      "|        Nagano 1998|           16|\n",
      "|       Atlanta 1996|           17|\n",
      "|   Lillehammer 1994|           15|\n",
      "|     Barcelona 1992|           15|\n",
      "|   Albertville 1992|           15|\n",
      "|         Seoul 1988|           16|\n",
      "|       Calgary 1988|           15|\n",
      "|   Los Angeles 1984|           15|\n",
      "+-------------------+-------------+\n",
      "only showing top 20 rows\n",
      "\n"
     ]
    }
   ],
   "source": [
    "# Calculer la durée des Jeux Olympiques en jours\n",
    "cleaned_df = cleaned_df.withColumn('game_duration', datediff('game_end_date', 'game_start_date'))\n",
    "\n",
    "# Afficher les durées\n",
    "duration_df.select('game_name', 'duration_days').show()\n",
    "\n",
    "# Extraire les durées des Jeux Olympiques\n",
    "game_durations = cleaned_df.select('game_duration').toPandas()\n"
   ]
  },
  {
   "cell_type": "code",
   "execution_count": 84,
   "id": "db401e7c-b63b-4663-b3ac-8fdd44c757ae",
   "metadata": {},
   "outputs": [
    {
     "data": {
      "image/png": "[encoded data removed]",
      "text/plain": [
       "<Figure size 1000x600 with 1 Axes>"
      ]
     },
     "metadata": {},
     "output_type": "display_data"
    }
   ],
   "source": [
    "# Créer le graphique\n",
    "plt.figure(figsize=(10, 6))\n",
    "plt.hist(game_durations['game_duration'], bins=20, color='skyblue', edgecolor='black')\n",
    "plt.title('Analyse des durées des Jeux Olympiques')\n",
    "plt.xlabel('Durée (en jours)')\n",
    "plt.ylabel('Fréquence')\n",
    "plt.grid(axis='y', linestyle='--', alpha=0.7)\n",
    "plt.tight_layout()\n",
    "plt.show()\n"
   ]
  },
  {
   "cell_type": "markdown",
   "id": "01914d4a-59a9-4f2f-bb2e-6ede4e7d1205",
   "metadata": {},
   "source": [
    "6- Analyse de la fréquence des jeux olympiques "
   ]
  },
  {
   "cell_type": "code",
   "execution_count": 74,
   "id": "c5fda945-bf17-4cf6-a419-44fc59fd4ee0",
   "metadata": {},
   "outputs": [
    {
     "name": "stdout",
     "output_type": "stream",
     "text": [
      "+-----------+---------------+\n",
      "|game_season|num_occurrences|\n",
      "+-----------+---------------+\n",
      "|     Summer|             29|\n",
      "|     Winter|             24|\n",
      "+-----------+---------------+\n",
      "\n",
      "+------+---------------+\n",
      "|decade|num_occurrences|\n",
      "+------+---------------+\n",
      "|  1950|              2|\n",
      "|  1930|              2|\n",
      "|  1940|              1|\n",
      "|  1960|              3|\n",
      "|  2010|              5|\n",
      "|  1920|              3|\n",
      "|  1970|              2|\n",
      "|  1900|              3|\n",
      "|  1890|              1|\n",
      "|  1910|              1|\n",
      "|  1980|              3|\n",
      "|  2020|              2|\n",
      "|  2000|              5|\n",
      "|  1990|              4|\n",
      "+------+---------------+\n",
      "\n"
     ]
    }
   ],
   "source": [
    "# Calculer la fréquence des jeux olympiques par saison\n",
    "season_frequency = cleaned_df.groupBy('game_season').agg(countDistinct('game_year').alias('num_occurrences'))\n",
    "\n",
    "# Calculer la fréquence des jeux olympiques par décennie\n",
    "decade_frequency = cleaned_df.groupBy('decade').agg(countDistinct('game_year').alias('num_occurrences'))\n",
    "\n",
    "# Afficher les résultats\n",
    "season_frequency.show()\n",
    "decade_frequency.show()\n"
   ]
  },
  {
   "cell_type": "code",
   "execution_count": null,
   "id": "b6d7c7fb-8947-431c-81be-f97e30053e62",
   "metadata": {},
   "outputs": [],
   "source": []
  }
 ],
 "metadata": {
  "kernelspec": {
   "display_name": "Python 3 (ipykernel)",
   "language": "python",
   "name": "python3"
  },
  "language_info": {
   "codemirror_mode": {
    "name": "ipython",
    "version": 3
   },
   "file_extension": ".py",
   "mimetype": "text/x-python",
   "name": "python",
   "nbconvert_exporter": "python",
   "pygments_lexer": "ipython3",
   "version": "3.11.6"
  }
 },
 "nbformat": 4,
 "nbformat_minor": 5
}
